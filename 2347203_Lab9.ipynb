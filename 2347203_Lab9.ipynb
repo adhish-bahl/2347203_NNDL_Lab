{
  "nbformat": 4,
  "nbformat_minor": 0,
  "metadata": {
    "colab": {
      "provenance": [],
      "authorship_tag": "ABX9TyO5fcglyELnRoxvklP7JqQu",
      "include_colab_link": true
    },
    "kernelspec": {
      "name": "python3",
      "display_name": "Python 3"
    },
    "language_info": {
      "name": "python"
    }
  },
  "cells": [
    {
      "cell_type": "markdown",
      "metadata": {
        "id": "view-in-github",
        "colab_type": "text"
      },
      "source": [
        "<a href=\"https://colab.research.google.com/github/adhish-bahl/2347203_NNDL_Lab/blob/main/2347203_Lab9.ipynb\" target=\"_parent\"><img src=\"https://colab.research.google.com/assets/colab-badge.svg\" alt=\"Open In Colab\"/></a>"
      ]
    },
    {
      "cell_type": "markdown",
      "source": [
        "#### **Importing Libraries**"
      ],
      "metadata": {
        "id": "Ml1HgernL4vq"
      }
    },
    {
      "cell_type": "code",
      "execution_count": 15,
      "metadata": {
        "id": "lhH23dsNKY0i"
      },
      "outputs": [],
      "source": [
        "import numpy as np\n",
        "import matplotlib.pyplot as plt\n",
        "import torch\n",
        "from torch.utils.data import DataLoader, random_split\n",
        "from torchvision import datasets, transforms\n",
        "from sklearn.linear_model import LogisticRegression\n",
        "from sklearn.metrics import accuracy_score, f1_score, classification_report"
      ]
    },
    {
      "cell_type": "code",
      "source": [
        "torch.manual_seed(42)"
      ],
      "metadata": {
        "colab": {
          "base_uri": "https://localhost:8080/"
        },
        "id": "a73goVB_LFvL",
        "outputId": "d90f4017-76df-4308-e007-d5f4db975615"
      },
      "execution_count": 16,
      "outputs": [
        {
          "output_type": "execute_result",
          "data": {
            "text/plain": [
              "<torch._C.Generator at 0x79a0a8b93d70>"
            ]
          },
          "metadata": {},
          "execution_count": 16
        }
      ]
    },
    {
      "cell_type": "markdown",
      "source": [
        "#### **Laoding Dataset**"
      ],
      "metadata": {
        "id": "45baZF2gL-NP"
      }
    },
    {
      "cell_type": "code",
      "source": [
        "transform = transforms.Compose([\n",
        "    transforms.Grayscale(num_output_channels=1),\n",
        "    transforms.ToTensor(),\n",
        "    lambda x: x.view(-1),\n",
        "    lambda x: x / 255.0\n",
        "])\n",
        "\n",
        "cifar10 = datasets.CIFAR10(root='./data', train=True, transform=transform, download=True)\n",
        "cifar10_test = datasets.CIFAR10(root='./data', train=False, transform=transform, download=True)"
      ],
      "metadata": {
        "colab": {
          "base_uri": "https://localhost:8080/"
        },
        "id": "cbrKqcmqLEj5",
        "outputId": "67e592db-4a5d-4767-edf2-4439f41d663e"
      },
      "execution_count": 17,
      "outputs": [
        {
          "output_type": "stream",
          "name": "stdout",
          "text": [
            "Files already downloaded and verified\n",
            "Files already downloaded and verified\n"
          ]
        }
      ]
    },
    {
      "cell_type": "markdown",
      "source": [
        "#### **Spliting training data into train and validation sets**"
      ],
      "metadata": {
        "id": "8qb7AzMTMD1M"
      }
    },
    {
      "cell_type": "code",
      "source": [
        "train_size = int(0.8 * len(cifar10))\n",
        "val_size = len(cifar10) - train_size\n",
        "cifar10_train, cifar10_val = random_split(cifar10, [train_size, val_size])\n",
        "\n",
        "train_loader = DataLoader(cifar10_train, batch_size=64, shuffle=True)\n",
        "val_loader = DataLoader(cifar10_val, batch_size=64, shuffle=False)\n",
        "test_loader = DataLoader(cifar10_test, batch_size=64, shuffle=False)"
      ],
      "metadata": {
        "id": "X6F5b6GZLIGR"
      },
      "execution_count": 18,
      "outputs": []
    },
    {
      "cell_type": "markdown",
      "source": [
        "#### **Check the data shapes**"
      ],
      "metadata": {
        "id": "R0hfVjUeML71"
      }
    },
    {
      "cell_type": "code",
      "source": [
        "input_size = cifar10[0][0].shape[0]\n",
        "print(f\"Input size: {input_size}\")"
      ],
      "metadata": {
        "colab": {
          "base_uri": "https://localhost:8080/"
        },
        "id": "HxAd97JMLLkt",
        "outputId": "602642f4-2e21-4088-ca69-fbf278d5fae7"
      },
      "execution_count": 19,
      "outputs": [
        {
          "output_type": "stream",
          "name": "stdout",
          "text": [
            "Input size: 1024\n"
          ]
        }
      ]
    },
    {
      "cell_type": "markdown",
      "source": [
        "#### **Define the RBM Model**"
      ],
      "metadata": {
        "id": "sRgKcC1nMQH8"
      }
    },
    {
      "cell_type": "code",
      "source": [
        "class RBM(torch.nn.Module):\n",
        "    def __init__(self, visible_units, hidden_units):\n",
        "        super(RBM, self).__init__()\n",
        "        self.visible_units = visible_units\n",
        "        self.hidden_units = hidden_units\n",
        "\n",
        "        self.weights = torch.nn.Parameter(torch.randn(hidden_units, visible_units) * 0.01)\n",
        "        self.v_bias = torch.nn.Parameter(torch.zeros(visible_units))\n",
        "        self.h_bias = torch.nn.Parameter(torch.zeros(hidden_units))\n",
        "\n",
        "    def sample_h(self, v):\n",
        "        prob_h = torch.sigmoid(torch.matmul(v, self.weights.t()) + self.h_bias)\n",
        "        return prob_h, torch.bernoulli(prob_h)\n",
        "\n",
        "    def sample_v(self, h):\n",
        "        prob_v = torch.sigmoid(torch.matmul(h, self.weights) + self.v_bias)\n",
        "        return prob_v, torch.bernoulli(prob_v)\n",
        "\n",
        "    def forward(self, v):\n",
        "        _, h_sample = self.sample_h(v)\n",
        "        _, v_reconstructed = self.sample_v(h_sample)\n",
        "        return v_reconstructed\n",
        "\n",
        "    def contrastive_divergence(self, v, k=1):\n",
        "        v_ = v\n",
        "        for _ in range(k):\n",
        "            prob_h, h = self.sample_h(v_)\n",
        "            prob_v, v_ = self.sample_v(h)\n",
        "        return v, v_\n",
        "\n",
        "    def training_step(self, v, k=1):\n",
        "        v0, vk = self.contrastive_divergence(v, k)\n",
        "        prob_h0, h0 = self.sample_h(v0)\n",
        "        prob_hk, hk = self.sample_h(vk)\n",
        "\n",
        "        positive_grad = torch.matmul(h0.t(), v0)\n",
        "        negative_grad = torch.matmul(hk.t(), vk)\n",
        "\n",
        "        self.weights.grad = -(positive_grad - negative_grad) / v.size(0)\n",
        "        self.v_bias.grad = torch.mean(v0 - vk, dim=0)\n",
        "        self.h_bias.grad = torch.mean(h0 - hk, dim=0)\n",
        "\n",
        "        return torch.mean(torch.sum((v0 - vk) ** 2, dim=1))\n",
        "\n",
        "hidden_units = 128\n",
        "rbm = RBM(visible_units=input_size, hidden_units=hidden_units)\n",
        "optimizer = torch.optim.SGD([rbm.weights, rbm.v_bias, rbm.h_bias], lr=0.1)"
      ],
      "metadata": {
        "id": "MUCsqxlCLWKJ"
      },
      "execution_count": 20,
      "outputs": []
    },
    {
      "cell_type": "markdown",
      "source": [
        "#### **Train RBM**"
      ],
      "metadata": {
        "id": "5xcplYEfNFLY"
      }
    },
    {
      "cell_type": "code",
      "source": [
        "epochs = 10\n",
        "k = 1\n",
        "\n",
        "for epoch in range(epochs):\n",
        "    total_loss = 0\n",
        "    for batch in train_loader:\n",
        "        v, _ = batch\n",
        "        v = v.view(v.size(0), -1)\n",
        "        loss = rbm.training_step(v, k)\n",
        "        optimizer.step()\n",
        "        optimizer.zero_grad()\n",
        "        total_loss += loss.item()\n",
        "\n",
        "    print(f\"Epoch {epoch+1}/{epochs}, Loss: {total_loss:.4f}\")\n"
      ],
      "metadata": {
        "colab": {
          "base_uri": "https://localhost:8080/"
        },
        "id": "sHxbiHEgLcvs",
        "outputId": "388dfa86-fdd8-479e-e5f7-b4449e658d96"
      },
      "execution_count": 21,
      "outputs": [
        {
          "output_type": "stream",
          "name": "stdout",
          "text": [
            "Epoch 1/10, Loss: 610345.2864\n",
            "Epoch 2/10, Loss: 637587.1091\n",
            "Epoch 3/10, Loss: 637587.1074\n",
            "Epoch 4/10, Loss: 637587.1064\n",
            "Epoch 5/10, Loss: 637587.1080\n",
            "Epoch 6/10, Loss: 637587.1072\n",
            "Epoch 7/10, Loss: 637587.1080\n",
            "Epoch 8/10, Loss: 637587.1064\n",
            "Epoch 9/10, Loss: 637587.1060\n",
            "Epoch 10/10, Loss: 637587.1078\n"
          ]
        }
      ]
    },
    {
      "cell_type": "markdown",
      "source": [
        "#### **Extract Features**"
      ],
      "metadata": {
        "id": "IQYVbuyhMYJ-"
      }
    },
    {
      "cell_type": "code",
      "source": [
        "def get_hidden_representation(data_loader, rbm):\n",
        "    features, labels = [], []\n",
        "    for batch in data_loader:\n",
        "        v, label = batch\n",
        "        v = v.view(v.size(0), -1)\n",
        "        prob_h, _ = rbm.sample_h(v)\n",
        "        features.append(prob_h.detach().numpy())\n",
        "        labels.append(label.numpy())\n",
        "    return np.vstack(features), np.hstack(labels)\n",
        "\n",
        "train_features, train_labels = get_hidden_representation(train_loader, rbm)\n",
        "test_features, test_labels = get_hidden_representation(test_loader, rbm)\n",
        "\n",
        "print(f\"Train features shape: {train_features.shape}\")\n",
        "print(f\"Test features shape: {test_features.shape}\")"
      ],
      "metadata": {
        "colab": {
          "base_uri": "https://localhost:8080/"
        },
        "id": "66hsoLHgLfOU",
        "outputId": "be904397-0dd5-47d6-dc5e-d99e2a1ca080"
      },
      "execution_count": 22,
      "outputs": [
        {
          "output_type": "stream",
          "name": "stdout",
          "text": [
            "Train features shape: (40000, 128)\n",
            "Test features shape: (10000, 128)\n"
          ]
        }
      ]
    },
    {
      "cell_type": "markdown",
      "source": [
        "#### **Visualize RBM Weights**"
      ],
      "metadata": {
        "id": "UUgxPmRBMfSK"
      }
    },
    {
      "cell_type": "code",
      "source": [
        "weights = rbm.weights.detach().numpy()\n",
        "plt.figure(figsize=(10, 10))\n",
        "for i in range(16):\n",
        "    plt.subplot(4, 4, i+1)\n",
        "    plt.imshow(weights[i].reshape(32, 32), cmap='gray')\n",
        "    plt.axis('off')\n",
        "plt.show()"
      ],
      "metadata": {
        "colab": {
          "base_uri": "https://localhost:8080/",
          "height": 807
        },
        "id": "kbP0-ylZLip7",
        "outputId": "6a8ecdf9-4c18-4ddf-dfa5-2ca0f38805af"
      },
      "execution_count": 23,
      "outputs": [
        {
          "output_type": "display_data",
          "data": {
            "text/plain": [
              "<Figure size 1000x1000 with 16 Axes>"
            ],
            "image/png": "[encoded data removed]"
          },
          "metadata": {}
        }
      ]
    },
    {
      "cell_type": "markdown",
      "source": [
        "**Intepretation:**\n",
        "Each small square corresponds to the weight vector of a single hidden unit reshaped into the original input dimension."
      ],
      "metadata": {
        "id": "f7fQFJpaNmF1"
      }
    },
    {
      "cell_type": "markdown",
      "source": [
        "#### **Train and Evaluate Classifier**"
      ],
      "metadata": {
        "id": "xZZCfOmtMjZM"
      }
    },
    {
      "cell_type": "code",
      "source": [
        "classifier = LogisticRegression(max_iter=1000)\n",
        "classifier.fit(train_features, train_labels)\n",
        "\n",
        "test_preds = classifier.predict(test_features)\n",
        "accuracy = accuracy_score(test_labels, test_preds)\n",
        "f1 = f1_score(test_labels, test_preds, average='weighted')\n",
        "\n",
        "print(f\"Accuracy: {accuracy:.4f}\")\n",
        "print(f\"F1 Score: {f1:.4f}\")\n",
        "print(\"\\nClassification Report:\")\n",
        "print(classification_report(test_labels, test_preds))"
      ],
      "metadata": {
        "colab": {
          "base_uri": "https://localhost:8080/"
        },
        "id": "gqopG27vLnL7",
        "outputId": "5c5dbd7f-5ad8-46d5-d6f0-8cb943fe02b2"
      },
      "execution_count": 24,
      "outputs": [
        {
          "output_type": "stream",
          "name": "stdout",
          "text": [
            "Accuracy: 0.1000\n",
            "F1 Score: 0.0182\n",
            "\n",
            "Classification Report:\n",
            "              precision    recall  f1-score   support\n",
            "\n",
            "           0       0.00      0.00      0.00      1000\n",
            "           1       0.00      0.00      0.00      1000\n",
            "           2       0.00      0.00      0.00      1000\n",
            "           3       0.00      0.00      0.00      1000\n",
            "           4       0.10      1.00      0.18      1000\n",
            "           5       0.00      0.00      0.00      1000\n",
            "           6       0.00      0.00      0.00      1000\n",
            "           7       0.00      0.00      0.00      1000\n",
            "           8       0.00      0.00      0.00      1000\n",
            "           9       0.00      0.00      0.00      1000\n",
            "\n",
            "    accuracy                           0.10     10000\n",
            "   macro avg       0.01      0.10      0.02     10000\n",
            "weighted avg       0.01      0.10      0.02     10000\n",
            "\n"
          ]
        },
        {
          "output_type": "stream",
          "name": "stderr",
          "text": [
            "/usr/local/lib/python3.10/dist-packages/sklearn/metrics/_classification.py:1531: UndefinedMetricWarning: Precision is ill-defined and being set to 0.0 in labels with no predicted samples. Use `zero_division` parameter to control this behavior.\n",
            "  _warn_prf(average, modifier, f\"{metric.capitalize()} is\", len(result))\n",
            "/usr/local/lib/python3.10/dist-packages/sklearn/metrics/_classification.py:1531: UndefinedMetricWarning: Precision is ill-defined and being set to 0.0 in labels with no predicted samples. Use `zero_division` parameter to control this behavior.\n",
            "  _warn_prf(average, modifier, f\"{metric.capitalize()} is\", len(result))\n",
            "/usr/local/lib/python3.10/dist-packages/sklearn/metrics/_classification.py:1531: UndefinedMetricWarning: Precision is ill-defined and being set to 0.0 in labels with no predicted samples. Use `zero_division` parameter to control this behavior.\n",
            "  _warn_prf(average, modifier, f\"{metric.capitalize()} is\", len(result))\n"
          ]
        }
      ]
    },
    {
      "cell_type": "markdown",
      "source": [
        "**Intepretation:**\n",
        "\n",
        "The output shows poor performance of the classifier trained on RBM-extracted features for the dataset. The overall accuracy is 10%, which is equivalent to random guessing for a 10-class problem. The F1 score is 0.0182, reflecting an imbalance between precision and recall across all classes. F1 scores being 0.00 for most classes. This shows that the RBM has failed to extract meaningful features from the dataset, likely due to inadequate training, hyperparameter tuning."
      ],
      "metadata": {
        "id": "aONzmE6lON-Z"
      }
    },
    {
      "cell_type": "markdown",
      "source": [
        "#### **Analysis**"
      ],
      "metadata": {
        "id": "xLakAq7sMqFh"
      }
    },
    {
      "cell_type": "code",
      "source": [
        "raw_train, raw_train_labels = next(iter(DataLoader(cifar10_train, batch_size=len(cifar10_train))))\n",
        "raw_train = raw_train.view(raw_train.size(0), -1).numpy()\n",
        "\n",
        "raw_test, raw_test_labels = next(iter(DataLoader(cifar10_test, batch_size=len(cifar10_test))))\n",
        "raw_test = raw_test.view(raw_test.size(0), -1).numpy()\n",
        "\n",
        "classifier_raw = LogisticRegression(max_iter=1000)\n",
        "classifier_raw.fit(raw_train, raw_train_labels)\n",
        "\n",
        "raw_preds = classifier_raw.predict(raw_test)\n",
        "raw_accuracy = accuracy_score(raw_test_labels, raw_preds)\n",
        "raw_f1 = f1_score(raw_test_labels, raw_preds, average='weighted')\n",
        "\n",
        "print(f\"Raw Pixel Data - Accuracy: {raw_accuracy:.4f}, F1 Score: {raw_f1:.4f}\")"
      ],
      "metadata": {
        "colab": {
          "base_uri": "https://localhost:8080/"
        },
        "id": "_VdYXEMMLsIj",
        "outputId": "2228bd41-c1a4-41a3-be0d-3d04539d42e6"
      },
      "execution_count": 25,
      "outputs": [
        {
          "output_type": "stream",
          "name": "stdout",
          "text": [
            "Raw Pixel Data - Accuracy: 0.2412, F1 Score: 0.2106\n"
          ]
        }
      ]
    },
    {
      "cell_type": "markdown",
      "source": [
        "**Intepretation:**\n",
        "\n",
        "The classifier trained on the data achieved an accuracy of 24.12% and an F1 score of 0.2106. This performance is very low. This indicates that the data contains more discernible patterns for the classifier to exploit compared to the RBM's extracted features. However, the overall performance remains poor due to the complexity of the dataset, where raw pixel data lacks the hierarchical, abstract representations needed to capture high-level features effectively for classification."
      ],
      "metadata": {
        "id": "hC-you8DO_ww"
      }
    }
  ]
}