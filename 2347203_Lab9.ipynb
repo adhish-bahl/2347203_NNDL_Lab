{
  "nbformat": 4,
  "nbformat_minor": 0,
  "metadata": {
    "colab": {
      "provenance": [],
      "authorship_tag": "ABX9TyNGdZVj8xwjheitRB36p+qU",
      "include_colab_link": true
    },
    "kernelspec": {
      "name": "python3",
      "display_name": "Python 3"
    },
    "language_info": {
      "name": "python"
    }
  },
  "cells": [
    {
      "cell_type": "markdown",
      "metadata": {
        "id": "view-in-github",
        "colab_type": "text"
      },
      "source": [
        "<a href=\"https://colab.research.google.com/github/adhish-bahl/2347203_NNDL_Lab/blob/main/2347203_Lab9.ipynb\" target=\"_parent\"><img src=\"https://colab.research.google.com/assets/colab-badge.svg\" alt=\"Open In Colab\"/></a>"
      ]
    },
    {
      "cell_type": "markdown",
      "source": [
        "#### **Importing Libraries**"
      ],
      "metadata": {
        "id": "Ml1HgernL4vq"
      }
    },
    {
      "cell_type": "code",
      "execution_count": 2,
      "metadata": {
        "id": "lhH23dsNKY0i"
      },
      "outputs": [],
      "source": [
        "import numpy as np\n",
        "import matplotlib.pyplot as plt\n",
        "import torch\n",
        "from torch.utils.data import DataLoader, random_split\n",
        "from torchvision import datasets, transforms\n",
        "from sklearn.linear_model import LogisticRegression\n",
        "from sklearn.metrics import accuracy_score, f1_score, classification_report"
      ]
    },
    {
      "cell_type": "code",
      "source": [
        "torch.manual_seed(42)"
      ],
      "metadata": {
        "colab": {
          "base_uri": "https://localhost:8080/"
        },
        "id": "a73goVB_LFvL",
        "outputId": "215d3e7d-67d2-4a79-f311-50dd60898b9b"
      },
      "execution_count": 3,
      "outputs": [
        {
          "output_type": "execute_result",
          "data": {
            "text/plain": [
              "<torch._C.Generator at 0x7b46466dc070>"
            ]
          },
          "metadata": {},
          "execution_count": 3
        }
      ]
    },
    {
      "cell_type": "markdown",
      "source": [
        "#### **Laoding Dataset**"
      ],
      "metadata": {
        "id": "45baZF2gL-NP"
      }
    },
    {
      "cell_type": "code",
      "source": [
        "transform = transforms.Compose([transforms.ToTensor(), lambda x: x.view(-1), lambda x: x / 255.0])\n",
        "\n",
        "mnist = datasets.MNIST(root='./data', train=True, transform=transform, download=True)\n",
        "mnist_test = datasets.MNIST(root='./data', train=False, transform=transform, download=True)\n"
      ],
      "metadata": {
        "colab": {
          "base_uri": "https://localhost:8080/"
        },
        "id": "cbrKqcmqLEj5",
        "outputId": "38604074-c47e-4608-d775-9faa50c0c8c6"
      },
      "execution_count": 4,
      "outputs": [
        {
          "output_type": "stream",
          "name": "stdout",
          "text": [
            "Downloading http://yann.lecun.com/exdb/mnist/train-images-idx3-ubyte.gz\n",
            "Failed to download (trying next):\n",
            "HTTP Error 403: Forbidden\n",
            "\n",
            "Downloading https://ossci-datasets.s3.amazonaws.com/mnist/train-images-idx3-ubyte.gz\n",
            "Downloading https://ossci-datasets.s3.amazonaws.com/mnist/train-images-idx3-ubyte.gz to ./data/MNIST/raw/train-images-idx3-ubyte.gz\n"
          ]
        },
        {
          "output_type": "stream",
          "name": "stderr",
          "text": [
            "100%|██████████| 9.91M/9.91M [00:01<00:00, 5.24MB/s]\n"
          ]
        },
        {
          "output_type": "stream",
          "name": "stdout",
          "text": [
            "Extracting ./data/MNIST/raw/train-images-idx3-ubyte.gz to ./data/MNIST/raw\n",
            "\n",
            "Downloading http://yann.lecun.com/exdb/mnist/train-labels-idx1-ubyte.gz\n",
            "Failed to download (trying next):\n",
            "HTTP Error 403: Forbidden\n",
            "\n",
            "Downloading https://ossci-datasets.s3.amazonaws.com/mnist/train-labels-idx1-ubyte.gz\n",
            "Downloading https://ossci-datasets.s3.amazonaws.com/mnist/train-labels-idx1-ubyte.gz to ./data/MNIST/raw/train-labels-idx1-ubyte.gz\n"
          ]
        },
        {
          "output_type": "stream",
          "name": "stderr",
          "text": [
            "100%|██████████| 28.9k/28.9k [00:00<00:00, 153kB/s]\n"
          ]
        },
        {
          "output_type": "stream",
          "name": "stdout",
          "text": [
            "Extracting ./data/MNIST/raw/train-labels-idx1-ubyte.gz to ./data/MNIST/raw\n",
            "\n",
            "Downloading http://yann.lecun.com/exdb/mnist/t10k-images-idx3-ubyte.gz\n",
            "Failed to download (trying next):\n",
            "HTTP Error 403: Forbidden\n",
            "\n",
            "Downloading https://ossci-datasets.s3.amazonaws.com/mnist/t10k-images-idx3-ubyte.gz\n",
            "Downloading https://ossci-datasets.s3.amazonaws.com/mnist/t10k-images-idx3-ubyte.gz to ./data/MNIST/raw/t10k-images-idx3-ubyte.gz\n"
          ]
        },
        {
          "output_type": "stream",
          "name": "stderr",
          "text": [
            "100%|██████████| 1.65M/1.65M [00:01<00:00, 1.45MB/s]\n"
          ]
        },
        {
          "output_type": "stream",
          "name": "stdout",
          "text": [
            "Extracting ./data/MNIST/raw/t10k-images-idx3-ubyte.gz to ./data/MNIST/raw\n",
            "\n",
            "Downloading http://yann.lecun.com/exdb/mnist/t10k-labels-idx1-ubyte.gz\n",
            "Failed to download (trying next):\n",
            "HTTP Error 403: Forbidden\n",
            "\n",
            "Downloading https://ossci-datasets.s3.amazonaws.com/mnist/t10k-labels-idx1-ubyte.gz\n",
            "Downloading https://ossci-datasets.s3.amazonaws.com/mnist/t10k-labels-idx1-ubyte.gz to ./data/MNIST/raw/t10k-labels-idx1-ubyte.gz\n"
          ]
        },
        {
          "output_type": "stream",
          "name": "stderr",
          "text": [
            "100%|██████████| 4.54k/4.54k [00:00<00:00, 8.21MB/s]"
          ]
        },
        {
          "output_type": "stream",
          "name": "stdout",
          "text": [
            "Extracting ./data/MNIST/raw/t10k-labels-idx1-ubyte.gz to ./data/MNIST/raw\n",
            "\n"
          ]
        },
        {
          "output_type": "stream",
          "name": "stderr",
          "text": [
            "\n"
          ]
        }
      ]
    },
    {
      "cell_type": "markdown",
      "source": [
        "#### **Spliting training data into train and validation sets**"
      ],
      "metadata": {
        "id": "8qb7AzMTMD1M"
      }
    },
    {
      "cell_type": "code",
      "source": [
        "train_size = int(0.8 * len(mnist))\n",
        "val_size = len(mnist) - train_size\n",
        "mnist_train, mnist_val = random_split(mnist, [train_size, val_size])\n",
        "\n",
        "train_loader = DataLoader(mnist_train, batch_size=64, shuffle=True)\n",
        "val_loader = DataLoader(mnist_val, batch_size=64, shuffle=False)\n",
        "test_loader = DataLoader(mnist_test, batch_size=64, shuffle=False)"
      ],
      "metadata": {
        "id": "X6F5b6GZLIGR"
      },
      "execution_count": 5,
      "outputs": []
    },
    {
      "cell_type": "markdown",
      "source": [
        "#### **Check the data shapes**"
      ],
      "metadata": {
        "id": "R0hfVjUeML71"
      }
    },
    {
      "cell_type": "code",
      "source": [
        "\n",
        "input_size = mnist[0][0].shape[0]\n",
        "print(f\"Input size: {input_size}\")"
      ],
      "metadata": {
        "colab": {
          "base_uri": "https://localhost:8080/"
        },
        "id": "HxAd97JMLLkt",
        "outputId": "94bb6d4a-c786-44ad-a06d-a66fab485d5a"
      },
      "execution_count": 6,
      "outputs": [
        {
          "output_type": "stream",
          "name": "stdout",
          "text": [
            "Input size: 784\n"
          ]
        }
      ]
    },
    {
      "cell_type": "markdown",
      "source": [
        "#### **Define the RBM Model**"
      ],
      "metadata": {
        "id": "sRgKcC1nMQH8"
      }
    },
    {
      "cell_type": "code",
      "source": [
        "class RBM(torch.nn.Module):\n",
        "    def __init__(self, visible_units, hidden_units):\n",
        "        super(RBM, self).__init__()\n",
        "        self.visible_units = visible_units\n",
        "        self.hidden_units = hidden_units\n",
        "\n",
        "        self.weights = torch.nn.Parameter(torch.randn(hidden_units, visible_units) * 0.01)\n",
        "        self.v_bias = torch.nn.Parameter(torch.zeros(visible_units))\n",
        "        self.h_bias = torch.nn.Parameter(torch.zeros(hidden_units))\n",
        "\n",
        "    def sample_h(self, v):\n",
        "        prob_h = torch.sigmoid(torch.matmul(v, self.weights.t()) + self.h_bias)\n",
        "        return prob_h, torch.bernoulli(prob_h)\n",
        "\n",
        "    def sample_v(self, h):\n",
        "        prob_v = torch.sigmoid(torch.matmul(h, self.weights) + self.v_bias)\n",
        "        return prob_v, torch.bernoulli(prob_v)\n",
        "\n",
        "    def forward(self, v):\n",
        "        _, h_sample = self.sample_h(v)\n",
        "        _, v_reconstructed = self.sample_v(h_sample)\n",
        "        return v_reconstructed\n",
        "\n",
        "    def contrastive_divergence(self, v, k=1):\n",
        "        v_ = v\n",
        "        for _ in range(k):\n",
        "            prob_h, h = self.sample_h(v_)\n",
        "            prob_v, v_ = self.sample_v(h)\n",
        "        return v, v_\n",
        "\n",
        "    def training_step(self, v, k=1):\n",
        "        v0, vk = self.contrastive_divergence(v, k)\n",
        "        prob_h0, h0 = self.sample_h(v0)\n",
        "        prob_hk, hk = self.sample_h(vk)\n",
        "\n",
        "        positive_grad = torch.matmul(h0.t(), v0)\n",
        "        negative_grad = torch.matmul(hk.t(), vk)\n",
        "\n",
        "        self.weights.grad = -(positive_grad - negative_grad) / v.size(0)\n",
        "        self.v_bias.grad = torch.mean(v0 - vk, dim=0)\n",
        "        self.h_bias.grad = torch.mean(h0 - hk, dim=0)\n",
        "\n",
        "        return torch.mean(torch.sum((v0 - vk) ** 2, dim=1))\n",
        "\n",
        "hidden_units = 128\n",
        "rbm = RBM(visible_units=input_size, hidden_units=hidden_units)\n",
        "optimizer = torch.optim.SGD([rbm.weights, rbm.v_bias, rbm.h_bias], lr=0.1)\n"
      ],
      "metadata": {
        "id": "MUCsqxlCLWKJ"
      },
      "execution_count": 7,
      "outputs": []
    },
    {
      "cell_type": "markdown",
      "source": [
        "#### **Train RBM**"
      ],
      "metadata": {
        "id": "5xcplYEfNFLY"
      }
    },
    {
      "cell_type": "code",
      "source": [
        "epochs = 10\n",
        "k = 1\n",
        "\n",
        "for epoch in range(epochs):\n",
        "    total_loss = 0\n",
        "    for batch in train_loader:\n",
        "        v, _ = batch\n",
        "        v = v.view(v.size(0), -1)\n",
        "        loss = rbm.training_step(v, k)\n",
        "        optimizer.step()\n",
        "        optimizer.zero_grad()\n",
        "        total_loss += loss.item()\n",
        "\n",
        "    print(f\"Epoch {epoch+1}/{epochs}, Loss: {total_loss:.4f}\")\n"
      ],
      "metadata": {
        "colab": {
          "base_uri": "https://localhost:8080/"
        },
        "id": "sHxbiHEgLcvs",
        "outputId": "12ef4055-168a-493a-afbb-0465d2df763c"
      },
      "execution_count": 8,
      "outputs": [
        {
          "output_type": "stream",
          "name": "stdout",
          "text": [
            "Epoch 1/10, Loss: 563893.9707\n",
            "Epoch 2/10, Loss: 587398.1797\n",
            "Epoch 3/10, Loss: 587398.1792\n",
            "Epoch 4/10, Loss: 587398.1816\n",
            "Epoch 5/10, Loss: 587398.1786\n",
            "Epoch 6/10, Loss: 587398.1797\n",
            "Epoch 7/10, Loss: 587398.1790\n",
            "Epoch 8/10, Loss: 587398.1807\n",
            "Epoch 9/10, Loss: 587398.1791\n",
            "Epoch 10/10, Loss: 587398.1791\n"
          ]
        }
      ]
    },
    {
      "cell_type": "markdown",
      "source": [
        "#### **Extract Features**"
      ],
      "metadata": {
        "id": "IQYVbuyhMYJ-"
      }
    },
    {
      "cell_type": "code",
      "source": [
        "def get_hidden_representation(data_loader, rbm):\n",
        "    features, labels = [], []\n",
        "    for batch in data_loader:\n",
        "        v, label = batch\n",
        "        v = v.view(v.size(0), -1)\n",
        "        prob_h, _ = rbm.sample_h(v)\n",
        "        features.append(prob_h.detach().numpy())\n",
        "        labels.append(label.numpy())\n",
        "    return np.vstack(features), np.hstack(labels)\n",
        "\n",
        "train_features, train_labels = get_hidden_representation(train_loader, rbm)\n",
        "test_features, test_labels = get_hidden_representation(test_loader, rbm)\n",
        "\n",
        "print(f\"Train features shape: {train_features.shape}\")\n",
        "print(f\"Test features shape: {test_features.shape}\")\n"
      ],
      "metadata": {
        "colab": {
          "base_uri": "https://localhost:8080/"
        },
        "id": "66hsoLHgLfOU",
        "outputId": "40855ea9-72f0-4109-b871-12402ec8a85d"
      },
      "execution_count": 9,
      "outputs": [
        {
          "output_type": "stream",
          "name": "stdout",
          "text": [
            "Train features shape: (48000, 128)\n",
            "Test features shape: (10000, 128)\n"
          ]
        }
      ]
    },
    {
      "cell_type": "markdown",
      "source": [
        "#### **Visualize RBM Weights**"
      ],
      "metadata": {
        "id": "UUgxPmRBMfSK"
      }
    },
    {
      "cell_type": "code",
      "source": [
        "weights = rbm.weights.detach().numpy()\n",
        "plt.figure(figsize=(10, 10))\n",
        "for i in range(16):\n",
        "    plt.subplot(4, 4, i+1)\n",
        "    plt.imshow(weights[i].reshape(28, 28), cmap='gray')\n",
        "    plt.axis('off')\n",
        "plt.show()\n"
      ],
      "metadata": {
        "colab": {
          "base_uri": "https://localhost:8080/",
          "height": 807
        },
        "id": "kbP0-ylZLip7",
        "outputId": "99336cd7-af0b-49be-e69d-523aa7dd2520"
      },
      "execution_count": 10,
      "outputs": [
        {
          "output_type": "display_data",
          "data": {
            "text/plain": [
              "<Figure size 1000x1000 with 16 Axes>"
            ],
            "image/png": "[encoded data removed]"
          },
          "metadata": {}
        }
      ]
    },
    {
      "cell_type": "markdown",
      "source": [
        "#### **Train and Evaluate Classifier**"
      ],
      "metadata": {
        "id": "xZZCfOmtMjZM"
      }
    },
    {
      "cell_type": "code",
      "source": [
        "classifier = LogisticRegression(max_iter=1000)\n",
        "classifier.fit(train_features, train_labels)\n",
        "\n",
        "test_preds = classifier.predict(test_features)\n",
        "accuracy = accuracy_score(test_labels, test_preds)\n",
        "f1 = f1_score(test_labels, test_preds, average='weighted')\n",
        "\n",
        "print(f\"Accuracy: {accuracy:.4f}\")\n",
        "print(f\"F1 Score: {f1:.4f}\")\n",
        "print(\"\\nClassification Report:\")\n",
        "print(classification_report(test_labels, test_preds))\n"
      ],
      "metadata": {
        "colab": {
          "base_uri": "https://localhost:8080/"
        },
        "id": "gqopG27vLnL7",
        "outputId": "0faeef2d-5c08-4cfa-d1cb-1c346ca8a228"
      },
      "execution_count": 11,
      "outputs": [
        {
          "output_type": "stream",
          "name": "stdout",
          "text": [
            "Accuracy: 0.1135\n",
            "F1 Score: 0.0231\n",
            "\n",
            "Classification Report:\n",
            "              precision    recall  f1-score   support\n",
            "\n",
            "           0       0.00      0.00      0.00       980\n",
            "           1       0.11      1.00      0.20      1135\n",
            "           2       0.00      0.00      0.00      1032\n",
            "           3       0.00      0.00      0.00      1010\n",
            "           4       0.00      0.00      0.00       982\n",
            "           5       0.00      0.00      0.00       892\n",
            "           6       0.00      0.00      0.00       958\n",
            "           7       0.00      0.00      0.00      1028\n",
            "           8       0.00      0.00      0.00       974\n",
            "           9       0.00      0.00      0.00      1009\n",
            "\n",
            "    accuracy                           0.11     10000\n",
            "   macro avg       0.01      0.10      0.02     10000\n",
            "weighted avg       0.01      0.11      0.02     10000\n",
            "\n"
          ]
        },
        {
          "output_type": "stream",
          "name": "stderr",
          "text": [
            "/usr/local/lib/python3.10/dist-packages/sklearn/metrics/_classification.py:1531: UndefinedMetricWarning: Precision is ill-defined and being set to 0.0 in labels with no predicted samples. Use `zero_division` parameter to control this behavior.\n",
            "  _warn_prf(average, modifier, f\"{metric.capitalize()} is\", len(result))\n",
            "/usr/local/lib/python3.10/dist-packages/sklearn/metrics/_classification.py:1531: UndefinedMetricWarning: Precision is ill-defined and being set to 0.0 in labels with no predicted samples. Use `zero_division` parameter to control this behavior.\n",
            "  _warn_prf(average, modifier, f\"{metric.capitalize()} is\", len(result))\n",
            "/usr/local/lib/python3.10/dist-packages/sklearn/metrics/_classification.py:1531: UndefinedMetricWarning: Precision is ill-defined and being set to 0.0 in labels with no predicted samples. Use `zero_division` parameter to control this behavior.\n",
            "  _warn_prf(average, modifier, f\"{metric.capitalize()} is\", len(result))\n"
          ]
        }
      ]
    },
    {
      "cell_type": "markdown",
      "source": [
        "#### **Analysis**"
      ],
      "metadata": {
        "id": "xLakAq7sMqFh"
      }
    },
    {
      "cell_type": "code",
      "source": [
        "raw_train, raw_train_labels = next(iter(DataLoader(mnist_train, batch_size=len(mnist_train))))\n",
        "raw_train = raw_train.view(raw_train.size(0), -1).numpy()\n",
        "\n",
        "raw_test, raw_test_labels = next(iter(DataLoader(mnist_test, batch_size=len(mnist_test))))\n",
        "raw_test = raw_test.view(raw_test.size(0), -1).numpy()\n",
        "\n",
        "classifier_raw = LogisticRegression(max_iter=1000)\n",
        "classifier_raw.fit(raw_train, raw_train_labels)\n",
        "\n",
        "raw_preds = classifier_raw.predict(raw_test)\n",
        "raw_accuracy = accuracy_score(raw_test_labels, raw_preds)\n",
        "raw_f1 = f1_score(raw_test_labels, raw_preds, average='weighted')\n",
        "\n",
        "print(f\"Raw Pixel Data - Accuracy: {raw_accuracy:.4f}, F1 Score: {raw_f1:.4f}\")\n"
      ],
      "metadata": {
        "colab": {
          "base_uri": "https://localhost:8080/"
        },
        "id": "_VdYXEMMLsIj",
        "outputId": "31bd3544-8e68-4b33-e57e-247044fd2374"
      },
      "execution_count": 12,
      "outputs": [
        {
          "output_type": "stream",
          "name": "stdout",
          "text": [
            "Raw Pixel Data - Accuracy: 0.7648, F1 Score: 0.7514\n"
          ]
        }
      ]
    }
  ]
}