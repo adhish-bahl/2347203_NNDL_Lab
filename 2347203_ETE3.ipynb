{
  "nbformat": 4,
  "nbformat_minor": 0,
  "metadata": {
    "colab": {
      "provenance": [],
      "authorship_tag": "ABX9TyMomuq7kAsi77dovg6t6TJe",
      "include_colab_link": true
    },
    "kernelspec": {
      "name": "python3",
      "display_name": "Python 3"
    },
    "language_info": {
      "name": "python"
    }
  },
  "cells": [
    {
      "cell_type": "markdown",
      "metadata": {
        "id": "view-in-github",
        "colab_type": "text"
      },
      "source": [
        "<a href=\"https://colab.research.google.com/github/adhish-bahl/2347203_NNDL_Lab/blob/main/2347203_ETE3.ipynb\" target=\"_parent\"><img src=\"https://colab.research.google.com/assets/colab-badge.svg\" alt=\"Open In Colab\"/></a>"
      ]
    },
    {
      "cell_type": "markdown",
      "source": [
        "#### **Importing Libraries**"
      ],
      "metadata": {
        "id": "OX13qcwA6QAX"
      }
    },
    {
      "cell_type": "code",
      "execution_count": null,
      "metadata": {
        "id": "kYk35xnM6J-Y"
      },
      "outputs": [],
      "source": []
    },
    {
      "cell_type": "markdown",
      "source": [
        "#### **Mounting Drive**"
      ],
      "metadata": {
        "id": "p9L2AcAZ6TbO"
      }
    },
    {
      "cell_type": "code",
      "source": [
        "from google.colab import drive\n",
        "drive.mount('/content/drive')"
      ],
      "metadata": {
        "id": "Uaymlf2w6VyW"
      },
      "execution_count": null,
      "outputs": []
    },
    {
      "cell_type": "markdown",
      "source": [
        "#### **Importing Dataset**"
      ],
      "metadata": {
        "id": "rpOBEXc16WlW"
      }
    },
    {
      "cell_type": "code",
      "source": [],
      "metadata": {
        "id": "SaFYJbRr6Zjb"
      },
      "execution_count": null,
      "outputs": []
    }
  ]
}