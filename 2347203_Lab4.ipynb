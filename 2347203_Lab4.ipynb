{
  "nbformat": 4,
  "nbformat_minor": 0,
  "metadata": {
    "colab": {
      "provenance": [],
      "authorship_tag": "ABX9TyMwQ0bS3sYTYs4WaZOj1lJu",
      "include_colab_link": true
    },
    "kernelspec": {
      "name": "python3",
      "display_name": "Python 3"
    },
    "language_info": {
      "name": "python"
    }
  },
  "cells": [
    {
      "cell_type": "markdown",
      "metadata": {
        "id": "view-in-github",
        "colab_type": "text"
      },
      "source": [
        "<a href=\"https://colab.research.google.com/github/adhish-bahl/2347203_NNDL_Lab/blob/main/2347203_Lab4.ipynb\" target=\"_parent\"><img src=\"https://colab.research.google.com/assets/colab-badge.svg\" alt=\"Open In Colab\"/></a>"
      ]
    },
    {
      "cell_type": "markdown",
      "source": [
        "#### **Importing Libraries**"
      ],
      "metadata": {
        "id": "2fMYeJXR26Q5"
      }
    },
    {
      "cell_type": "code",
      "execution_count": 53,
      "metadata": {
        "id": "jNRLwDPd2pRf"
      },
      "outputs": [],
      "source": [
        "import tensorflow as tf\n",
        "import tensorflow_datasets as tfds\n",
        "import numpy as np\n",
        "import matplotlib.pyplot as plt\n",
        "from sklearn.model_selection import train_test_split\n",
        "from sklearn.cluster import KMeans\n",
        "from sklearn.metrics import confusion_matrix, ConfusionMatrixDisplay"
      ]
    },
    {
      "cell_type": "markdown",
      "source": [
        "#### **Loading Dataset**"
      ],
      "metadata": {
        "id": "uhVFC-Pe3Or3"
      }
    },
    {
      "cell_type": "code",
      "source": [
        "(ds_train, ds_test), ds_info = tfds.load('kmnist', split=['train', 'test'], shuffle_files=True, as_supervised=True, with_info=True)"
      ],
      "metadata": {
        "id": "NPNyA91l3S4s"
      },
      "execution_count": 54,
      "outputs": []
    },
    {
      "cell_type": "markdown",
      "source": [
        "#### **Data Preprocessing**"
      ],
      "metadata": {
        "id": "wdwnmL_64k21"
      }
    },
    {
      "cell_type": "markdown",
      "source": [
        "**Normalize the data (pixel values between 0 and 1)**"
      ],
      "metadata": {
        "id": "toRLEpLEEOrD"
      }
    },
    {
      "cell_type": "code",
      "source": [
        "def normalize_img(image, label):\n",
        "    \"\"\"Normalizes images: `uint8` -> `float32`.\"\"\"\n",
        "    return tf.cast(image, tf.float32) / 255.0, label"
      ],
      "metadata": {
        "id": "bYa5LpQU4qCD"
      },
      "execution_count": 55,
      "outputs": []
    },
    {
      "cell_type": "code",
      "source": [
        "batch_size = 32\n",
        "ds_train = ds_train.map(normalize_img, num_parallel_calls=tf.data.experimental.AUTOTUNE)\n",
        "ds_train = ds_train.shuffle(1000).batch(batch_size)\n",
        "\n",
        "ds_test = ds_test.map(normalize_img, num_parallel_calls=tf.data.experimental.AUTOTUNE)\n",
        "ds_test = ds_test.batch(batch_size)"
      ],
      "metadata": {
        "id": "IY3O5fmRjZhK"
      },
      "execution_count": 56,
      "outputs": []
    },
    {
      "cell_type": "markdown",
      "source": [
        "**Convert dataset to numpy arrays**"
      ],
      "metadata": {
        "id": "s2DZ909qEcyr"
      }
    },
    {
      "cell_type": "code",
      "source": [
        "def dataset_to_numpy(dataset):\n",
        "    X, y = [], []\n",
        "    for images, labels in dataset:\n",
        "        X.extend(images.numpy())\n",
        "        y.extend(labels.numpy())\n",
        "    return np.array(X), np.array(y)"
      ],
      "metadata": {
        "id": "9oTrDwQfjb0f"
      },
      "execution_count": 57,
      "outputs": []
    },
    {
      "cell_type": "markdown",
      "source": [
        "**Convert training and test datasets to NumPy arrays**"
      ],
      "metadata": {
        "id": "iJiEsCpRjh1I"
      }
    },
    {
      "cell_type": "code",
      "source": [
        "X_train, y_train = dataset_to_numpy(ds_train)\n",
        "X_test, y_test = dataset_to_numpy(ds_test)"
      ],
      "metadata": {
        "id": "nNXlz8Xkjfix"
      },
      "execution_count": 58,
      "outputs": []
    },
    {
      "cell_type": "markdown",
      "source": [
        "**Split the training data into training and validation sets (80% training, 20% validation)**"
      ],
      "metadata": {
        "id": "kMm-U1xzjjMh"
      }
    },
    {
      "cell_type": "code",
      "source": [
        "X_train, X_val, y_train, y_val = train_test_split(X_train, y_train, test_size=0.2, random_state=42)"
      ],
      "metadata": {
        "id": "dZei2mOmlyVv"
      },
      "execution_count": 59,
      "outputs": []
    },
    {
      "cell_type": "markdown",
      "source": [
        "**Flatten the images to shape (batch_size, 784)**"
      ],
      "metadata": {
        "id": "tL1m5Czfl7kP"
      }
    },
    {
      "cell_type": "code",
      "source": [
        "X_train = X_train.reshape(-1, 784)\n",
        "X_val = X_val.reshape(-1, 784)\n",
        "X_test = X_test.reshape(-1, 784)"
      ],
      "metadata": {
        "id": "ChV5eqQOl7_H"
      },
      "execution_count": 60,
      "outputs": []
    },
    {
      "cell_type": "markdown",
      "source": [
        "**Determine the centers using K-means clustering**"
      ],
      "metadata": {
        "id": "v5UBXdBamC_S"
      }
    },
    {
      "cell_type": "code",
      "source": [
        "num_units = 100\n",
        "kmeans = KMeans(n_clusters=num_units, random_state=42).fit(X_train)\n",
        "centers = kmeans.cluster_centers_"
      ],
      "metadata": {
        "id": "-2E8UZRmmDQG"
      },
      "execution_count": 61,
      "outputs": []
    },
    {
      "cell_type": "markdown",
      "source": [
        "#### **Radial Basis Function (RBF) Network**"
      ],
      "metadata": {
        "id": "I6a5y2S94q8w"
      }
    },
    {
      "cell_type": "code",
      "source": [
        "class RBFNetwork(tf.keras.Model):\n",
        "    def __init__(self, num_units, num_classes, centers):\n",
        "        super(RBFNetwork, self).__init__()\n",
        "        self.num_units = num_units\n",
        "        self.num_classes = num_classes\n",
        "        self.centers = tf.Variable(centers, trainable=False)\n",
        "        self.beta = tf.Variable(tf.ones([self.num_units]), trainable=True)\n",
        "        self.W = tf.Variable(tf.random.normal([self.num_units, self.num_classes]))\n",
        "\n",
        "    def rbf(self, X):\n",
        "        diff = tf.expand_dims(X, 1) - tf.expand_dims(self.centers, 0)\n",
        "        distance_squared = tf.reduce_sum(tf.square(diff), axis=-1)\n",
        "        return tf.exp(-self.beta * distance_squared)\n",
        "\n",
        "    def call(self, X):\n",
        "        rbf_output = self.rbf(X)\n",
        "        return tf.nn.softmax(tf.matmul(rbf_output, self.W))\n",
        "\n",
        "num_classes = 10\n",
        "rbf_network = RBFNetwork(num_units, num_classes, centers)\n",
        "\n",
        "learning_rate = 0.01\n",
        "rbf_network.compile(optimizer=tf.keras.optimizers.SGD(learning_rate=learning_rate),\n",
        "                    loss=tf.keras.losses.SparseCategoricalCrossentropy(),\n",
        "                    metrics=['accuracy'])"
      ],
      "metadata": {
        "id": "ZhZt0YUa4val"
      },
      "execution_count": 62,
      "outputs": []
    },
    {
      "cell_type": "markdown",
      "source": [
        "#### **Training**"
      ],
      "metadata": {
        "id": "7IFexUS5OcoC"
      }
    },
    {
      "cell_type": "code",
      "source": [
        "history = rbf_network.fit(X_train, y_train, validation_data=(X_val, y_val), epochs=100)"
      ],
      "metadata": {
        "colab": {
          "base_uri": "https://localhost:8080/"
        },
        "id": "UYHxiYk9OfBg",
        "outputId": "e3ff3eab-7c65-4623-989a-72a991b1e93a"
      },
      "execution_count": null,
      "outputs": [
        {
          "output_type": "stream",
          "name": "stdout",
          "text": [
            "Epoch 1/100\n",
            "\u001b[1m   1/1500\u001b[0m \u001b[37m━━━━━━━━━━━━━━━━━━━━\u001b[0m \u001b[1m6:33\u001b[0m 262ms/step - accuracy: 0.0938 - loss: 2.3026"
          ]
        },
        {
          "output_type": "stream",
          "name": "stderr",
          "text": [
            "/usr/local/lib/python3.10/dist-packages/keras/src/backend/tensorflow/trainer.py:75: UserWarning: The model does not have any trainable weights.\n",
            "  warnings.warn(\"The model does not have any trainable weights.\")\n"
          ]
        },
        {
          "output_type": "stream",
          "name": "stdout",
          "text": [
            "\u001b[1m1500/1500\u001b[0m \u001b[32m━━━━━━━━━━━━━━━━━━━━\u001b[0m\u001b[37m\u001b[0m \u001b[1m10s\u001b[0m 6ms/step - accuracy: 0.1022 - loss: 2.3026 - val_accuracy: 0.1023 - val_loss: 2.3026\n",
            "Epoch 2/100\n",
            "\u001b[1m1500/1500\u001b[0m \u001b[32m━━━━━━━━━━━━━━━━━━━━\u001b[0m\u001b[37m\u001b[0m \u001b[1m11s\u001b[0m 7ms/step - accuracy: 0.1006 - loss: 2.3026 - val_accuracy: 0.1023 - val_loss: 2.3026\n",
            "Epoch 3/100\n",
            "\u001b[1m1500/1500\u001b[0m \u001b[32m━━━━━━━━━━━━━━━━━━━━\u001b[0m\u001b[37m\u001b[0m \u001b[1m20s\u001b[0m 7ms/step - accuracy: 0.0990 - loss: 2.3026 - val_accuracy: 0.1023 - val_loss: 2.3026\n",
            "Epoch 4/100\n",
            "\u001b[1m1500/1500\u001b[0m \u001b[32m━━━━━━━━━━━━━━━━━━━━\u001b[0m\u001b[37m\u001b[0m \u001b[1m10s\u001b[0m 6ms/step - accuracy: 0.1045 - loss: 2.3026 - val_accuracy: 0.1023 - val_loss: 2.3026\n",
            "Epoch 5/100\n",
            "\u001b[1m1500/1500\u001b[0m \u001b[32m━━━━━━━━━━━━━━━━━━━━\u001b[0m\u001b[37m\u001b[0m \u001b[1m11s\u001b[0m 7ms/step - accuracy: 0.1014 - loss: 2.3026 - val_accuracy: 0.1023 - val_loss: 2.3026\n",
            "Epoch 6/100\n",
            "\u001b[1m1500/1500\u001b[0m \u001b[32m━━━━━━━━━━━━━━━━━━━━\u001b[0m\u001b[37m\u001b[0m \u001b[1m21s\u001b[0m 7ms/step - accuracy: 0.1022 - loss: 2.3026 - val_accuracy: 0.1023 - val_loss: 2.3026\n",
            "Epoch 7/100\n",
            "\u001b[1m1500/1500\u001b[0m \u001b[32m━━━━━━━━━━━━━━━━━━━━\u001b[0m\u001b[37m\u001b[0m \u001b[1m10s\u001b[0m 6ms/step - accuracy: 0.1021 - loss: 2.3026 - val_accuracy: 0.1023 - val_loss: 2.3026\n",
            "Epoch 8/100\n",
            "\u001b[1m1500/1500\u001b[0m \u001b[32m━━━━━━━━━━━━━━━━━━━━\u001b[0m\u001b[37m\u001b[0m \u001b[1m11s\u001b[0m 7ms/step - accuracy: 0.1014 - loss: 2.3026 - val_accuracy: 0.1023 - val_loss: 2.3026\n",
            "Epoch 9/100\n",
            "\u001b[1m1500/1500\u001b[0m \u001b[32m━━━━━━━━━━━━━━━━━━━━\u001b[0m\u001b[37m\u001b[0m \u001b[1m21s\u001b[0m 7ms/step - accuracy: 0.1008 - loss: 2.3026 - val_accuracy: 0.1023 - val_loss: 2.3026\n",
            "Epoch 10/100\n",
            "\u001b[1m1500/1500\u001b[0m \u001b[32m━━━━━━━━━━━━━━━━━━━━\u001b[0m\u001b[37m\u001b[0m \u001b[1m10s\u001b[0m 6ms/step - accuracy: 0.0995 - loss: 2.3026 - val_accuracy: 0.1023 - val_loss: 2.3026\n",
            "Epoch 11/100\n",
            "\u001b[1m1500/1500\u001b[0m \u001b[32m━━━━━━━━━━━━━━━━━━━━\u001b[0m\u001b[37m\u001b[0m \u001b[1m11s\u001b[0m 7ms/step - accuracy: 0.1029 - loss: 2.3026 - val_accuracy: 0.1023 - val_loss: 2.3026\n",
            "Epoch 12/100\n",
            "\u001b[1m1500/1500\u001b[0m \u001b[32m━━━━━━━━━━━━━━━━━━━━\u001b[0m\u001b[37m\u001b[0m \u001b[1m12s\u001b[0m 8ms/step - accuracy: 0.1008 - loss: 2.3026 - val_accuracy: 0.1023 - val_loss: 2.3026\n",
            "Epoch 13/100\n",
            "\u001b[1m1500/1500\u001b[0m \u001b[32m━━━━━━━━━━━━━━━━━━━━\u001b[0m\u001b[37m\u001b[0m \u001b[1m12s\u001b[0m 8ms/step - accuracy: 0.1024 - loss: 2.3026 - val_accuracy: 0.1023 - val_loss: 2.3026\n",
            "Epoch 14/100\n",
            "\u001b[1m1500/1500\u001b[0m \u001b[32m━━━━━━━━━━━━━━━━━━━━\u001b[0m\u001b[37m\u001b[0m \u001b[1m11s\u001b[0m 7ms/step - accuracy: 0.1021 - loss: 2.3026 - val_accuracy: 0.1023 - val_loss: 2.3026\n",
            "Epoch 15/100\n",
            "\u001b[1m1500/1500\u001b[0m \u001b[32m━━━━━━━━━━━━━━━━━━━━\u001b[0m\u001b[37m\u001b[0m \u001b[1m10s\u001b[0m 7ms/step - accuracy: 0.1010 - loss: 2.3026 - val_accuracy: 0.1023 - val_loss: 2.3026\n",
            "Epoch 16/100\n",
            "\u001b[1m1500/1500\u001b[0m \u001b[32m━━━━━━━━━━━━━━━━━━━━\u001b[0m\u001b[37m\u001b[0m \u001b[1m12s\u001b[0m 8ms/step - accuracy: 0.1011 - loss: 2.3026 - val_accuracy: 0.1023 - val_loss: 2.3026\n",
            "Epoch 17/100\n",
            "\u001b[1m1500/1500\u001b[0m \u001b[32m━━━━━━━━━━━━━━━━━━━━\u001b[0m\u001b[37m\u001b[0m \u001b[1m19s\u001b[0m 7ms/step - accuracy: 0.1039 - loss: 2.3026 - val_accuracy: 0.1023 - val_loss: 2.3026\n",
            "Epoch 18/100\n",
            "\u001b[1m1500/1500\u001b[0m \u001b[32m━━━━━━━━━━━━━━━━━━━━\u001b[0m\u001b[37m\u001b[0m \u001b[1m10s\u001b[0m 7ms/step - accuracy: 0.1004 - loss: 2.3026 - val_accuracy: 0.1023 - val_loss: 2.3026\n",
            "Epoch 19/100\n",
            "\u001b[1m1500/1500\u001b[0m \u001b[32m━━━━━━━━━━━━━━━━━━━━\u001b[0m\u001b[37m\u001b[0m \u001b[1m12s\u001b[0m 8ms/step - accuracy: 0.1025 - loss: 2.3026 - val_accuracy: 0.1023 - val_loss: 2.3026\n",
            "Epoch 20/100\n",
            "\u001b[1m1500/1500\u001b[0m \u001b[32m━━━━━━━━━━━━━━━━━━━━\u001b[0m\u001b[37m\u001b[0m \u001b[1m11s\u001b[0m 7ms/step - accuracy: 0.1028 - loss: 2.3026 - val_accuracy: 0.1023 - val_loss: 2.3026\n",
            "Epoch 21/100\n",
            "\u001b[1m1500/1500\u001b[0m \u001b[32m━━━━━━━━━━━━━━━━━━━━\u001b[0m\u001b[37m\u001b[0m \u001b[1m11s\u001b[0m 7ms/step - accuracy: 0.1005 - loss: 2.3026 - val_accuracy: 0.1023 - val_loss: 2.3026\n",
            "Epoch 22/100\n",
            "\u001b[1m1500/1500\u001b[0m \u001b[32m━━━━━━━━━━━━━━━━━━━━\u001b[0m\u001b[37m\u001b[0m \u001b[1m20s\u001b[0m 7ms/step - accuracy: 0.1020 - loss: 2.3026 - val_accuracy: 0.1023 - val_loss: 2.3026\n",
            "Epoch 23/100\n",
            "\u001b[1m1500/1500\u001b[0m \u001b[32m━━━━━━━━━━━━━━━━━━━━\u001b[0m\u001b[37m\u001b[0m \u001b[1m20s\u001b[0m 7ms/step - accuracy: 0.1006 - loss: 2.3026 - val_accuracy: 0.1023 - val_loss: 2.3026\n",
            "Epoch 24/100\n",
            "\u001b[1m1500/1500\u001b[0m \u001b[32m━━━━━━━━━━━━━━━━━━━━\u001b[0m\u001b[37m\u001b[0m \u001b[1m10s\u001b[0m 6ms/step - accuracy: 0.1028 - loss: 2.3026 - val_accuracy: 0.1023 - val_loss: 2.3026\n",
            "Epoch 25/100\n",
            "\u001b[1m1500/1500\u001b[0m \u001b[32m━━━━━━━━━━━━━━━━━━━━\u001b[0m\u001b[37m\u001b[0m \u001b[1m11s\u001b[0m 7ms/step - accuracy: 0.0988 - loss: 2.3026 - val_accuracy: 0.1023 - val_loss: 2.3026\n",
            "Epoch 26/100\n",
            "\u001b[1m1500/1500\u001b[0m \u001b[32m━━━━━━━━━━━━━━━━━━━━\u001b[0m\u001b[37m\u001b[0m \u001b[1m11s\u001b[0m 7ms/step - accuracy: 0.1020 - loss: 2.3026 - val_accuracy: 0.1023 - val_loss: 2.3026\n",
            "Epoch 27/100\n",
            "\u001b[1m1500/1500\u001b[0m \u001b[32m━━━━━━━━━━━━━━━━━━━━\u001b[0m\u001b[37m\u001b[0m \u001b[1m20s\u001b[0m 7ms/step - accuracy: 0.1016 - loss: 2.3026 - val_accuracy: 0.1023 - val_loss: 2.3026\n",
            "Epoch 28/100\n",
            "\u001b[1m1500/1500\u001b[0m \u001b[32m━━━━━━━━━━━━━━━━━━━━\u001b[0m\u001b[37m\u001b[0m \u001b[1m10s\u001b[0m 7ms/step - accuracy: 0.1017 - loss: 2.3026 - val_accuracy: 0.1023 - val_loss: 2.3026\n",
            "Epoch 29/100\n",
            "\u001b[1m1500/1500\u001b[0m \u001b[32m━━━━━━━━━━━━━━━━━━━━\u001b[0m\u001b[37m\u001b[0m \u001b[1m11s\u001b[0m 7ms/step - accuracy: 0.0991 - loss: 2.3026 - val_accuracy: 0.1023 - val_loss: 2.3026\n",
            "Epoch 30/100\n",
            "\u001b[1m1500/1500\u001b[0m \u001b[32m━━━━━━━━━━━━━━━━━━━━\u001b[0m\u001b[37m\u001b[0m \u001b[1m11s\u001b[0m 7ms/step - accuracy: 0.1001 - loss: 2.3026 - val_accuracy: 0.1023 - val_loss: 2.3026\n",
            "Epoch 31/100\n",
            "\u001b[1m1500/1500\u001b[0m \u001b[32m━━━━━━━━━━━━━━━━━━━━\u001b[0m\u001b[37m\u001b[0m \u001b[1m11s\u001b[0m 7ms/step - accuracy: 0.1037 - loss: 2.3026 - val_accuracy: 0.1023 - val_loss: 2.3026\n",
            "Epoch 32/100\n",
            "\u001b[1m1500/1500\u001b[0m \u001b[32m━━━━━━━━━━━━━━━━━━━━\u001b[0m\u001b[37m\u001b[0m \u001b[1m21s\u001b[0m 7ms/step - accuracy: 0.1013 - loss: 2.3026 - val_accuracy: 0.1023 - val_loss: 2.3026\n",
            "Epoch 33/100\n",
            "\u001b[1m1500/1500\u001b[0m \u001b[32m━━━━━━━━━━━━━━━━━━━━\u001b[0m\u001b[37m\u001b[0m \u001b[1m20s\u001b[0m 7ms/step - accuracy: 0.0994 - loss: 2.3026 - val_accuracy: 0.1023 - val_loss: 2.3026\n",
            "Epoch 34/100\n",
            "\u001b[1m1500/1500\u001b[0m \u001b[32m━━━━━━━━━━━━━━━━━━━━\u001b[0m\u001b[37m\u001b[0m \u001b[1m10s\u001b[0m 6ms/step - accuracy: 0.1024 - loss: 2.3026 - val_accuracy: 0.1023 - val_loss: 2.3026\n",
            "Epoch 35/100\n",
            "\u001b[1m1500/1500\u001b[0m \u001b[32m━━━━━━━━━━━━━━━━━━━━\u001b[0m\u001b[37m\u001b[0m \u001b[1m11s\u001b[0m 7ms/step - accuracy: 0.1028 - loss: 2.3026 - val_accuracy: 0.1023 - val_loss: 2.3026\n",
            "Epoch 36/100\n",
            "\u001b[1m1500/1500\u001b[0m \u001b[32m━━━━━━━━━━━━━━━━━━━━\u001b[0m\u001b[37m\u001b[0m \u001b[1m20s\u001b[0m 7ms/step - accuracy: 0.0994 - loss: 2.3026 - val_accuracy: 0.1023 - val_loss: 2.3026\n",
            "Epoch 37/100\n",
            "\u001b[1m1500/1500\u001b[0m \u001b[32m━━━━━━━━━━━━━━━━━━━━\u001b[0m\u001b[37m\u001b[0m \u001b[1m21s\u001b[0m 7ms/step - accuracy: 0.1001 - loss: 2.3026 - val_accuracy: 0.1023 - val_loss: 2.3026\n",
            "Epoch 38/100\n",
            "\u001b[1m1500/1500\u001b[0m \u001b[32m━━━━━━━━━━━━━━━━━━━━\u001b[0m\u001b[37m\u001b[0m \u001b[1m21s\u001b[0m 7ms/step - accuracy: 0.1020 - loss: 2.3026 - val_accuracy: 0.1023 - val_loss: 2.3026\n",
            "Epoch 39/100\n",
            "\u001b[1m1500/1500\u001b[0m \u001b[32m━━━━━━━━━━━━━━━━━━━━\u001b[0m\u001b[37m\u001b[0m \u001b[1m10s\u001b[0m 6ms/step - accuracy: 0.1033 - loss: 2.3026 - val_accuracy: 0.1023 - val_loss: 2.3026\n",
            "Epoch 40/100\n",
            "\u001b[1m1500/1500\u001b[0m \u001b[32m━━━━━━━━━━━━━━━━━━━━\u001b[0m\u001b[37m\u001b[0m \u001b[1m12s\u001b[0m 8ms/step - accuracy: 0.1010 - loss: 2.3026 - val_accuracy: 0.1023 - val_loss: 2.3026\n",
            "Epoch 41/100\n",
            "\u001b[1m1500/1500\u001b[0m \u001b[32m━━━━━━━━━━━━━━━━━━━━\u001b[0m\u001b[37m\u001b[0m \u001b[1m11s\u001b[0m 7ms/step - accuracy: 0.1041 - loss: 2.3026 - val_accuracy: 0.1023 - val_loss: 2.3026\n",
            "Epoch 42/100\n",
            "\u001b[1m1500/1500\u001b[0m \u001b[32m━━━━━━━━━━━━━━━━━━━━\u001b[0m\u001b[37m\u001b[0m \u001b[1m11s\u001b[0m 7ms/step - accuracy: 0.1019 - loss: 2.3026 - val_accuracy: 0.1023 - val_loss: 2.3026\n",
            "Epoch 43/100\n",
            "\u001b[1m1500/1500\u001b[0m \u001b[32m━━━━━━━━━━━━━━━━━━━━\u001b[0m\u001b[37m\u001b[0m \u001b[1m20s\u001b[0m 7ms/step - accuracy: 0.1030 - loss: 2.3026 - val_accuracy: 0.1023 - val_loss: 2.3026\n",
            "Epoch 44/100\n",
            "\u001b[1m1500/1500\u001b[0m \u001b[32m━━━━━━━━━━━━━━━━━━━━\u001b[0m\u001b[37m\u001b[0m \u001b[1m21s\u001b[0m 7ms/step - accuracy: 0.1035 - loss: 2.3026 - val_accuracy: 0.1023 - val_loss: 2.3026\n",
            "Epoch 45/100\n",
            "\u001b[1m1500/1500\u001b[0m \u001b[32m━━━━━━━━━━━━━━━━━━━━\u001b[0m\u001b[37m\u001b[0m \u001b[1m20s\u001b[0m 7ms/step - accuracy: 0.1007 - loss: 2.3026 - val_accuracy: 0.1023 - val_loss: 2.3026\n",
            "Epoch 46/100\n",
            "\u001b[1m1500/1500\u001b[0m \u001b[32m━━━━━━━━━━━━━━━━━━━━\u001b[0m\u001b[37m\u001b[0m \u001b[1m21s\u001b[0m 7ms/step - accuracy: 0.1007 - loss: 2.3026 - val_accuracy: 0.1023 - val_loss: 2.3026\n",
            "Epoch 47/100\n",
            "\u001b[1m1500/1500\u001b[0m \u001b[32m━━━━━━━━━━━━━━━━━━━━\u001b[0m\u001b[37m\u001b[0m \u001b[1m20s\u001b[0m 7ms/step - accuracy: 0.1016 - loss: 2.3026 - val_accuracy: 0.1023 - val_loss: 2.3026\n",
            "Epoch 48/100\n",
            "\u001b[1m1500/1500\u001b[0m \u001b[32m━━━━━━━━━━━━━━━━━━━━\u001b[0m\u001b[37m\u001b[0m \u001b[1m13s\u001b[0m 9ms/step - accuracy: 0.1024 - loss: 2.3026 - val_accuracy: 0.1023 - val_loss: 2.3026\n",
            "Epoch 49/100\n",
            "\u001b[1m1500/1500\u001b[0m \u001b[32m━━━━━━━━━━━━━━━━━━━━\u001b[0m\u001b[37m\u001b[0m \u001b[1m18s\u001b[0m 7ms/step - accuracy: 0.0967 - loss: 2.3026 - val_accuracy: 0.1023 - val_loss: 2.3026\n",
            "Epoch 50/100\n",
            "\u001b[1m1500/1500\u001b[0m \u001b[32m━━━━━━━━━━━━━━━━━━━━\u001b[0m\u001b[37m\u001b[0m \u001b[1m21s\u001b[0m 7ms/step - accuracy: 0.1001 - loss: 2.3026 - val_accuracy: 0.1023 - val_loss: 2.3026\n",
            "Epoch 51/100\n",
            "\u001b[1m1500/1500\u001b[0m \u001b[32m━━━━━━━━━━━━━━━━━━━━\u001b[0m\u001b[37m\u001b[0m \u001b[1m11s\u001b[0m 7ms/step - accuracy: 0.1025 - loss: 2.3026 - val_accuracy: 0.1023 - val_loss: 2.3026\n",
            "Epoch 52/100\n",
            "\u001b[1m1500/1500\u001b[0m \u001b[32m━━━━━━━━━━━━━━━━━━━━\u001b[0m\u001b[37m\u001b[0m \u001b[1m10s\u001b[0m 7ms/step - accuracy: 0.1018 - loss: 2.3026 - val_accuracy: 0.1023 - val_loss: 2.3026\n",
            "Epoch 53/100\n",
            "\u001b[1m1500/1500\u001b[0m \u001b[32m━━━━━━━━━━━━━━━━━━━━\u001b[0m\u001b[37m\u001b[0m \u001b[1m11s\u001b[0m 7ms/step - accuracy: 0.1022 - loss: 2.3026 - val_accuracy: 0.1023 - val_loss: 2.3026\n",
            "Epoch 54/100\n",
            "\u001b[1m1500/1500\u001b[0m \u001b[32m━━━━━━━━━━━━━━━━━━━━\u001b[0m\u001b[37m\u001b[0m \u001b[1m11s\u001b[0m 7ms/step - accuracy: 0.0998 - loss: 2.3026 - val_accuracy: 0.1023 - val_loss: 2.3026\n",
            "Epoch 55/100\n",
            "\u001b[1m1500/1500\u001b[0m \u001b[32m━━━━━━━━━━━━━━━━━━━━\u001b[0m\u001b[37m\u001b[0m \u001b[1m19s\u001b[0m 7ms/step - accuracy: 0.1018 - loss: 2.3026 - val_accuracy: 0.1023 - val_loss: 2.3026\n",
            "Epoch 56/100\n",
            "\u001b[1m1500/1500\u001b[0m \u001b[32m━━━━━━━━━━━━━━━━━━━━\u001b[0m\u001b[37m\u001b[0m \u001b[1m11s\u001b[0m 7ms/step - accuracy: 0.1001 - loss: 2.3026 - val_accuracy: 0.1023 - val_loss: 2.3026\n",
            "Epoch 57/100\n",
            "\u001b[1m1500/1500\u001b[0m \u001b[32m━━━━━━━━━━━━━━━━━━━━\u001b[0m\u001b[37m\u001b[0m \u001b[1m11s\u001b[0m 7ms/step - accuracy: 0.1012 - loss: 2.3026 - val_accuracy: 0.1023 - val_loss: 2.3026\n",
            "Epoch 58/100\n",
            "\u001b[1m1500/1500\u001b[0m \u001b[32m━━━━━━━━━━━━━━━━━━━━\u001b[0m\u001b[37m\u001b[0m \u001b[1m11s\u001b[0m 7ms/step - accuracy: 0.1011 - loss: 2.3026 - val_accuracy: 0.1023 - val_loss: 2.3026\n",
            "Epoch 59/100\n",
            "\u001b[1m1500/1500\u001b[0m \u001b[32m━━━━━━━━━━━━━━━━━━━━\u001b[0m\u001b[37m\u001b[0m \u001b[1m10s\u001b[0m 6ms/step - accuracy: 0.0999 - loss: 2.3026 - val_accuracy: 0.1023 - val_loss: 2.3026\n",
            "Epoch 60/100\n",
            "\u001b[1m1500/1500\u001b[0m \u001b[32m━━━━━━━━━━━━━━━━━━━━\u001b[0m\u001b[37m\u001b[0m \u001b[1m11s\u001b[0m 7ms/step - accuracy: 0.1001 - loss: 2.3026 - val_accuracy: 0.1023 - val_loss: 2.3026\n",
            "Epoch 61/100\n",
            "\u001b[1m1500/1500\u001b[0m \u001b[32m━━━━━━━━━━━━━━━━━━━━\u001b[0m\u001b[37m\u001b[0m \u001b[1m21s\u001b[0m 7ms/step - accuracy: 0.1026 - loss: 2.3026 - val_accuracy: 0.1023 - val_loss: 2.3026\n",
            "Epoch 62/100\n",
            "\u001b[1m1500/1500\u001b[0m \u001b[32m━━━━━━━━━━━━━━━━━━━━\u001b[0m\u001b[37m\u001b[0m \u001b[1m20s\u001b[0m 7ms/step - accuracy: 0.1024 - loss: 2.3026 - val_accuracy: 0.1023 - val_loss: 2.3026\n",
            "Epoch 63/100\n",
            "\u001b[1m1500/1500\u001b[0m \u001b[32m━━━━━━━━━━━━━━━━━━━━\u001b[0m\u001b[37m\u001b[0m \u001b[1m20s\u001b[0m 7ms/step - accuracy: 0.1006 - loss: 2.3026 - val_accuracy: 0.1023 - val_loss: 2.3026\n",
            "Epoch 64/100\n",
            "\u001b[1m1500/1500\u001b[0m \u001b[32m━━━━━━━━━━━━━━━━━━━━\u001b[0m\u001b[37m\u001b[0m \u001b[1m21s\u001b[0m 7ms/step - accuracy: 0.0981 - loss: 2.3026 - val_accuracy: 0.1023 - val_loss: 2.3026\n",
            "Epoch 65/100\n",
            "\u001b[1m1500/1500\u001b[0m \u001b[32m━━━━━━━━━━━━━━━━━━━━\u001b[0m\u001b[37m\u001b[0m \u001b[1m20s\u001b[0m 7ms/step - accuracy: 0.1033 - loss: 2.3026 - val_accuracy: 0.1023 - val_loss: 2.3026\n",
            "Epoch 66/100\n",
            "\u001b[1m1500/1500\u001b[0m \u001b[32m━━━━━━━━━━━━━━━━━━━━\u001b[0m\u001b[37m\u001b[0m \u001b[1m10s\u001b[0m 7ms/step - accuracy: 0.0988 - loss: 2.3026 - val_accuracy: 0.1023 - val_loss: 2.3026\n",
            "Epoch 67/100\n",
            "\u001b[1m 722/1500\u001b[0m \u001b[32m━━━━━━━━━\u001b[0m\u001b[37m━━━━━━━━━━━\u001b[0m \u001b[1m5s\u001b[0m 7ms/step - accuracy: 0.1038 - loss: 2.3026"
          ]
        }
      ]
    },
    {
      "cell_type": "markdown",
      "source": [
        "#### **Evaluation**"
      ],
      "metadata": {
        "id": "9FY4ulcY4xT3"
      }
    },
    {
      "cell_type": "markdown",
      "source": [
        "**Compute accuracy**"
      ],
      "metadata": {
        "id": "jE8Uf-nZE9xV"
      }
    },
    {
      "cell_type": "code",
      "source": [
        "test_loss, test_accuracy = rbf_network.evaluate(X_test, y_test)\n",
        "print(\"Test Loss:\", test_loss)\n",
        "print(\"Test Accuracy:\", test_accuracy)"
      ],
      "metadata": {
        "id": "I6l0cZ3RFAEJ"
      },
      "execution_count": null,
      "outputs": []
    },
    {
      "cell_type": "markdown",
      "source": [
        "**Print final training accuracy**"
      ],
      "metadata": {
        "id": "ntyhnDDtpB1U"
      }
    },
    {
      "cell_type": "code",
      "source": [
        "final_train_accuracy = history.history['accuracy'][-1]\n",
        "print(\"Final Training Accuracy:\", final_train_accuracy)"
      ],
      "metadata": {
        "id": "U73LlyxEpCDm"
      },
      "execution_count": null,
      "outputs": []
    },
    {
      "cell_type": "markdown",
      "source": [
        "**Plot training and validation accuracy**"
      ],
      "metadata": {
        "id": "DIQ7qS0KpQPA"
      }
    },
    {
      "cell_type": "code",
      "source": [
        "plt.plot(history.history['accuracy'], label='Train Accuracy')\n",
        "plt.plot(history.history['val_accuracy'], label='Validation Accuracy')\n",
        "plt.title('Model Accuracy')\n",
        "plt.ylabel('Accuracy')\n",
        "plt.xlabel('Epoch')\n",
        "plt.legend()\n",
        "plt.show()"
      ],
      "metadata": {
        "id": "Jmdxzt8dpPo4"
      },
      "execution_count": null,
      "outputs": []
    },
    {
      "cell_type": "markdown",
      "source": [
        "**Plot training and validation loss**"
      ],
      "metadata": {
        "id": "xiDk8DCypXhj"
      }
    },
    {
      "cell_type": "code",
      "source": [
        "plt.plot(history.history['loss'], label='Train Loss')\n",
        "plt.plot(history.history['val_loss'], label='Validation Loss')\n",
        "plt.title('Model Loss')\n",
        "plt.ylabel('Loss')\n",
        "plt.xlabel('Epoch')\n",
        "plt.legend()\n",
        "plt.show()"
      ],
      "metadata": {
        "id": "KUeaF2dPpXMy"
      },
      "execution_count": null,
      "outputs": []
    },
    {
      "cell_type": "markdown",
      "source": [
        "**Plot confusion matrix**"
      ],
      "metadata": {
        "id": "h5IlJdpWpqjD"
      }
    },
    {
      "cell_type": "code",
      "source": [
        "y_pred = np.argmax(rbf_network.predict(X_test), axis=1)\n",
        "\n",
        "# Calculate the confusion matrix\n",
        "cm = confusion_matrix(y_test, y_pred)\n",
        "\n",
        "plt.figure(figsize=(10, 7))\n",
        "ConfusionMatrixDisplay(confusion_matrix=cm, display_labels=np.arange(num_classes)).plot(cmap='Blues')\n",
        "plt.title('Confusion Matrix')\n",
        "plt.show()\n"
      ],
      "metadata": {
        "id": "mSWbaA7PpoeM"
      },
      "execution_count": null,
      "outputs": []
    }
  ]
}